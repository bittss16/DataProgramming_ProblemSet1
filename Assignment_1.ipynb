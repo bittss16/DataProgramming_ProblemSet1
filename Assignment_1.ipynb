{
  "nbformat": 4,
  "nbformat_minor": 0,
  "metadata": {
    "colab": {
      "provenance": [],
      "authorship_tag": "ABX9TyMnjCrqD5Fpxcpj1bUSH5qb",
      "include_colab_link": true
    },
    "kernelspec": {
      "name": "python3",
      "display_name": "Python 3"
    },
    "language_info": {
      "name": "python"
    }
  },
  "cells": [
    {
      "cell_type": "markdown",
      "metadata": {
        "id": "view-in-github",
        "colab_type": "text"
      },
      "source": [
        "<a href=\"https://colab.research.google.com/github/bittss16/DataProgramming_ProblemSet1/blob/main/Assignment_1.ipynb\" target=\"_parent\"><img src=\"https://colab.research.google.com/assets/colab-badge.svg\" alt=\"Open In Colab\"/></a>"
      ]
    },
    {
      "cell_type": "markdown",
      "source": [
        "---\n",
        "*Question 1*\n",
        "---\n",
        "What data type is each of the following (evaluate where necessary)?\n",
        "\n",
        "\n",
        "*   5 = Integer\n",
        "* 5.0 = Float\n",
        "* 5 > 1 = Boolean\n",
        "* '5' = String\n",
        "* 5 * 2 = Integer\n",
        "* '5' * 2 = String\n",
        "* '5' + '2' = String\n",
        "* 5 / 2 = Float\n",
        "* 5 % 2 = Integer\n",
        "* {5, 2, 1} = Set\n",
        "* 5 == 3 = Boolean\n",
        "* Pi (the number) = Float\n"
      ],
      "metadata": {
        "id": "pIYTeFBeHxKm"
      }
    },
    {
      "cell_type": "markdown",
      "source": [
        "**QUESTION 2**"
      ],
      "metadata": {
        "id": "tdL1VlnvJhKL"
      }
    },
    {
      "cell_type": "code",
      "source": [
        "word = 'Supercalifragilisticexpialidocious'"
      ],
      "metadata": {
        "id": "SU7m2sXJH1M7"
      },
      "execution_count": 21,
      "outputs": []
    },
    {
      "cell_type": "code",
      "source": [
        "#2(a)\n",
        "\n",
        "print(\"length of word :\",len(word))"
      ],
      "metadata": {
        "colab": {
          "base_uri": "https://localhost:8080/"
        },
        "id": "DLqz9qgZIom_",
        "outputId": "daf03beb-c577-473b-8313-e88907b0a569"
      },
      "execution_count": 22,
      "outputs": [
        {
          "output_type": "stream",
          "name": "stdout",
          "text": [
            "length of word : 34\n"
          ]
        }
      ]
    },
    {
      "cell_type": "code",
      "source": [
        "#2(b)\n",
        "\n",
        "substring = 'ice'\n",
        "contains_substring = substring in word\n",
        "print(\"substring: \",contains_substring)"
      ],
      "metadata": {
        "colab": {
          "base_uri": "https://localhost:8080/"
        },
        "id": "bNxPMD7tIuin",
        "outputId": "27372dc8-5ad8-429b-d66a-6ebccd5c434f"
      },
      "execution_count": 23,
      "outputs": [
        {
          "output_type": "stream",
          "name": "stdout",
          "text": [
            "substring:  True\n"
          ]
        }
      ]
    },
    {
      "cell_type": "code",
      "source": [
        "#2(c)\n",
        "\n",
        "words = [\"Supercalifragilisticexpialidocious\", \"Honorificabilitudinitatibus\", \"Bababadalgharaghtakamminarronnkonn\"]\n",
        "longest_word = max(words, key = len)\n",
        "print(\"Longest word is : \",longest_word)"
      ],
      "metadata": {
        "colab": {
          "base_uri": "https://localhost:8080/"
        },
        "id": "R7p87OTsI616",
        "outputId": "39c30ab7-cb42-48f2-d437-1914bc79de44"
      },
      "execution_count": 24,
      "outputs": [
        {
          "output_type": "stream",
          "name": "stdout",
          "text": [
            "Longest word is :  Supercalifragilisticexpialidocious\n"
          ]
        }
      ]
    },
    {
      "cell_type": "code",
      "source": [
        "#2(d)\n",
        "\n",
        "composers = ['Berlioz', 'Borodin', 'Brian', 'Bartok', 'Bellini', 'Buxtehude', 'Bernstein']\n",
        "print(\"MIN:\",min(composers))\n",
        "print(\"MAX:\",max(composers))"
      ],
      "metadata": {
        "colab": {
          "base_uri": "https://localhost:8080/"
        },
        "id": "aFlk7-X1JAik",
        "outputId": "4458352f-32bd-4be8-8c49-96be3f13cd4e"
      },
      "execution_count": 25,
      "outputs": [
        {
          "output_type": "stream",
          "name": "stdout",
          "text": [
            "MIN: Bartok\n",
            "MAX: Buxtehude\n"
          ]
        }
      ]
    },
    {
      "cell_type": "markdown",
      "source": [
        "**QUESTION 3**"
      ],
      "metadata": {
        "id": "YrpPB0dHJt8U"
      }
    },
    {
      "cell_type": "code",
      "source": [
        "import math\n",
        "a = int(input(\"Enter a :\"))\n",
        "b = int(input(\"Enter b :\"))\n",
        "c = int(input(\"Enter c :\"))\n",
        "\n",
        "def triangle_area(a, b, c):\n",
        "    s = (a + b + c) / 2\n",
        "    area = math.sqrt(s * (s - a) * (s - b) * (s - c))\n",
        "    return area\n",
        "\n",
        "# Test the function\n",
        "print(\"Area of triangle is :\",triangle_area(a, b, c))\n"
      ],
      "metadata": {
        "colab": {
          "base_uri": "https://localhost:8080/"
        },
        "id": "KwUNaI03Jkh6",
        "outputId": "96305d8e-4b07-4f9d-8992-869f33186b10"
      },
      "execution_count": 26,
      "outputs": [
        {
          "output_type": "stream",
          "name": "stdout",
          "text": [
            "Enter a :2\n",
            "Enter b :2\n",
            "Enter c :2\n",
            "Area of triangle is : 1.7320508075688772\n"
          ]
        }
      ]
    },
    {
      "cell_type": "markdown",
      "source": [
        "**QUESTION 4**"
      ],
      "metadata": {
        "id": "ObIUec-nKaIr"
      }
    },
    {
      "cell_type": "code",
      "source": [
        "def separateOddEven(numbers):\n",
        "    odd = []\n",
        "    even = []\n",
        "    for num in numbers:\n",
        "        if num % 2 == 0:\n",
        "            even.append(num)\n",
        "        else:\n",
        "            odd.append(num)\n",
        "    return odd, even\n",
        "\n",
        "num_elements = int(input(\"Input the number of elements to be stored in the array: \"))\n",
        "\n",
        "elements = []\n",
        "for i in range(num_elements):\n",
        "    element = int(input(f\"Element - {i} : \"))\n",
        "    elements.append(element)\n",
        "\n",
        "odd_numbers, even_numbers = separateOddEven(elements)\n",
        "\n",
        "print(\"Odd numbers:\", odd_numbers)\n",
        "print(\"Even numbers:\", even_numbers)\n"
      ],
      "metadata": {
        "colab": {
          "base_uri": "https://localhost:8080/"
        },
        "id": "9mEWoJDrKErw",
        "outputId": "454aac69-ee79-4ff7-90bb-f14e4c91dd9e"
      },
      "execution_count": 27,
      "outputs": [
        {
          "output_type": "stream",
          "name": "stdout",
          "text": [
            "Input the number of elements to be stored in the array: 5\n",
            "Element - 0 : 1\n",
            "Element - 1 : 2\n",
            "Element - 2 : 3\n",
            "Element - 3 : 5\n",
            "Element - 4 : 6\n",
            "Odd numbers: [1, 3, 5]\n",
            "Even numbers: [2, 6]\n"
          ]
        }
      ]
    },
    {
      "cell_type": "markdown",
      "source": [
        "**QUESTION 5**"
      ],
      "metadata": {
        "id": "71Wrr6SAK07C"
      }
    },
    {
      "cell_type": "code",
      "source": [
        "#5(A)\n",
        "def inside(x, y, x1, y1, x2, y2):\n",
        "    if x >= x1 and x <= x2 and y >= y1 and y <= y2:\n",
        "        return True\n",
        "    else:\n",
        "        return False\n",
        "\n",
        "print(inside(1, 1, 0, 0, 2, 3))\n",
        "print(inside(-1, -1, 0, 0, 2, 3))\n",
        "\n",
        "#5(B)\n",
        "\n",
        "result = inside(1, 1, 0.3, 0.5, 1.1, 0.7) and inside(1, 1, 0.5, 0.2, 1.1, 2)\n",
        "print(result)\n"
      ],
      "metadata": {
        "colab": {
          "base_uri": "https://localhost:8080/"
        },
        "id": "VqECIII2K8aD",
        "outputId": "d2420092-8353-46c3-9f2f-ce290a14549f"
      },
      "execution_count": 28,
      "outputs": [
        {
          "output_type": "stream",
          "name": "stdout",
          "text": [
            "True\n",
            "False\n",
            "False\n"
          ]
        }
      ]
    },
    {
      "cell_type": "markdown",
      "source": [
        "**QUESTION 6**"
      ],
      "metadata": {
        "id": "iyELVOOuLaJG"
      }
    },
    {
      "cell_type": "code",
      "source": [
        "def pig(word):\n",
        "    vowels = ['a', 'e', 'i', 'o', 'u']\n",
        "    word = word.lower()  # Convert the word to lowercase\n",
        "\n",
        "    if word[0] in vowels:\n",
        "        return word + 'way'\n",
        "    else:\n",
        "        return word[1:] + word[0] + 'ay'\n",
        "\n",
        "print(pig('barrie'))\n",
        "print(pig('etobicoke'))\n"
      ],
      "metadata": {
        "colab": {
          "base_uri": "https://localhost:8080/"
        },
        "id": "3M-TZi8pLyJ5",
        "outputId": "8b006061-294c-4279-dc0f-31973ad5510c"
      },
      "execution_count": 29,
      "outputs": [
        {
          "output_type": "stream",
          "name": "stdout",
          "text": [
            "arriebay\n",
            "etobicokeway\n"
          ]
        }
      ]
    },
    {
      "cell_type": "markdown",
      "source": [
        "**QUESTION 7**"
      ],
      "metadata": {
        "id": "foxo5HqvMD5R"
      }
    },
    {
      "cell_type": "code",
      "source": [
        "def bldcount(fname):\n",
        "    blood_counts = {'A': 0, 'B': 0, 'AB': 0, 'O': 0, 'OO': 0}\n",
        "\n",
        "    try:\n",
        "        with open('bloodtype1.csv', 'r') as file:\n",
        "            for line in file:\n",
        "                blood_type = line.strip()\n",
        "                if blood_type in blood_counts:\n",
        "                    blood_counts[blood_type] += 1\n",
        "    except FileNotFoundError:\n",
        "        print(\"File not found.\")\n",
        "        return\n",
        "\n",
        "    for blood_type, count in blood_counts.items():\n",
        "        if count == 1:\n",
        "            print(\"There is one patient of blood type\", blood_type + \".\")\n",
        "        else:\n",
        "            print(\"There are\", count, \"patients of blood type\", blood_type + \".\")\n",
        "\n",
        "bldcount('bloodtype1.csv')\n"
      ],
      "metadata": {
        "colab": {
          "base_uri": "https://localhost:8080/"
        },
        "id": "BKTeeDQhLZuL",
        "outputId": "769a783f-c9f7-4f8d-ab60-c9f14c339ebf"
      },
      "execution_count": 37,
      "outputs": [
        {
          "output_type": "stream",
          "name": "stdout",
          "text": [
            "File not found.\n"
          ]
        }
      ]
    },
    {
      "cell_type": "markdown",
      "source": [
        "**QUESTION 8**"
      ],
      "metadata": {
        "id": "dNepVv0UOX_7"
      }
    },
    {
      "cell_type": "code",
      "source": [
        "def curconv(currency, amount):\n",
        "  conversion_rates = {\n",
        "        'JPY': 0.01241401,\n",
        "        'INR': 0.0177643,\n",
        "        'CHF': 1.0237414,\n",
        "        'CNY': 0.1550176,\n",
        "        'DKK': 0.1651442,\n",
        "        'EUR': 1.2296544,\n",
        "        'GBP':1.5550989,\n",
        "        'HKD':0.1270207,\n",
        "        'MXN':0.0751848,\n",
        "        'MYR':0.3145411,\n",
        "        'NOK':0.1677063,\n",
        "        'NZD':0.8003591,\n",
        "        'PHP':0.0233234,\n",
        "        'SEK':0.148269,\n",
        "        'SGD':0.788871,\n",
        "        'THB':0.0313789 }\n",
        "\n",
        "  if currency in conversion_rates:\n",
        "        usd_amount = amount * conversion_rates[currency]\n",
        "        return usd_amount\n",
        "\n",
        "  else:\n",
        "        print(\"Conversion rate for\", currency, \"is not available.\")\n",
        "        return None\n",
        "\n",
        "curconv('GBP',500)"
      ],
      "metadata": {
        "colab": {
          "base_uri": "https://localhost:8080/"
        },
        "id": "1K1HR7JpMp0T",
        "outputId": "a2b6f63f-e766-4d88-c6f3-fc0b6fd42435"
      },
      "execution_count": 49,
      "outputs": [
        {
          "output_type": "execute_result",
          "data": {
            "text/plain": [
              "777.54945"
            ]
          },
          "metadata": {},
          "execution_count": 49
        }
      ]
    },
    {
      "cell_type": "markdown",
      "source": [
        "**Question 9**"
      ],
      "metadata": {
        "id": "8GBUzsA7Q1Xu"
      }
    },
    {
      "cell_type": "code",
      "source": [
        "z = 6 + 'a'\n",
        "print(z)"
      ],
      "metadata": {
        "colab": {
          "base_uri": "https://localhost:8080/",
          "height": 182
        },
        "id": "7yZGruqWRnDh",
        "outputId": "2091bad8-1eef-47c0-89db-54546dc1135f"
      },
      "execution_count": 54,
      "outputs": [
        {
          "output_type": "error",
          "ename": "TypeError",
          "evalue": "ignored",
          "traceback": [
            "\u001b[0;31m---------------------------------------------------------------------------\u001b[0m",
            "\u001b[0;31mTypeError\u001b[0m                                 Traceback (most recent call last)",
            "\u001b[0;32m<ipython-input-54-2ad71bdad9f4>\u001b[0m in \u001b[0;36m<cell line: 1>\u001b[0;34m()\u001b[0m\n\u001b[0;32m----> 1\u001b[0;31m \u001b[0mz\u001b[0m \u001b[0;34m=\u001b[0m \u001b[0;36m6\u001b[0m \u001b[0;34m+\u001b[0m \u001b[0;34m'a'\u001b[0m\u001b[0;34m\u001b[0m\u001b[0;34m\u001b[0m\u001b[0m\n\u001b[0m\u001b[1;32m      2\u001b[0m \u001b[0mprint\u001b[0m\u001b[0;34m(\u001b[0m\u001b[0mz\u001b[0m\u001b[0;34m)\u001b[0m\u001b[0;34m\u001b[0m\u001b[0;34m\u001b[0m\u001b[0m\n",
            "\u001b[0;31mTypeError\u001b[0m: unsupported operand type(s) for +: 'int' and 'str'"
          ]
        }
      ]
    },
    {
      "cell_type": "code",
      "source": [
        "list = [1, 2, 3, 4, 5, 6, 7, 8, 9, 10]\n",
        "item = list[12]\n",
        "print(item)"
      ],
      "metadata": {
        "colab": {
          "base_uri": "https://localhost:8080/",
          "height": 200
        },
        "id": "mBdeRIlbSFXM",
        "outputId": "fd374f78-839d-418c-ca3f-2743cfa448ed"
      },
      "execution_count": 53,
      "outputs": [
        {
          "output_type": "error",
          "ename": "IndexError",
          "evalue": "ignored",
          "traceback": [
            "\u001b[0;31m---------------------------------------------------------------------------\u001b[0m",
            "\u001b[0;31mIndexError\u001b[0m                                Traceback (most recent call last)",
            "\u001b[0;32m<ipython-input-53-0525aec6c5f1>\u001b[0m in \u001b[0;36m<cell line: 2>\u001b[0;34m()\u001b[0m\n\u001b[1;32m      1\u001b[0m \u001b[0mlist\u001b[0m \u001b[0;34m=\u001b[0m \u001b[0;34m[\u001b[0m\u001b[0;36m1\u001b[0m\u001b[0;34m,\u001b[0m \u001b[0;36m2\u001b[0m\u001b[0;34m,\u001b[0m \u001b[0;36m3\u001b[0m\u001b[0;34m,\u001b[0m \u001b[0;36m4\u001b[0m\u001b[0;34m,\u001b[0m \u001b[0;36m5\u001b[0m\u001b[0;34m,\u001b[0m \u001b[0;36m6\u001b[0m\u001b[0;34m,\u001b[0m \u001b[0;36m7\u001b[0m\u001b[0;34m,\u001b[0m \u001b[0;36m8\u001b[0m\u001b[0;34m,\u001b[0m \u001b[0;36m9\u001b[0m\u001b[0;34m,\u001b[0m \u001b[0;36m10\u001b[0m\u001b[0;34m]\u001b[0m\u001b[0;34m\u001b[0m\u001b[0;34m\u001b[0m\u001b[0m\n\u001b[0;32m----> 2\u001b[0;31m \u001b[0mitem\u001b[0m \u001b[0;34m=\u001b[0m \u001b[0mlist\u001b[0m\u001b[0;34m[\u001b[0m\u001b[0;36m12\u001b[0m\u001b[0;34m]\u001b[0m\u001b[0;34m\u001b[0m\u001b[0;34m\u001b[0m\u001b[0m\n\u001b[0m\u001b[1;32m      3\u001b[0m \u001b[0mprint\u001b[0m\u001b[0;34m(\u001b[0m\u001b[0mitem\u001b[0m\u001b[0;34m)\u001b[0m\u001b[0;34m\u001b[0m\u001b[0;34m\u001b[0m\u001b[0m\n",
            "\u001b[0;31mIndexError\u001b[0m: list index out of range"
          ]
        }
      ]
    },
    {
      "cell_type": "code",
      "source": [
        "import math\n",
        "\n",
        "find = math.sqrt(-1.0)\n",
        "print(find)"
      ],
      "metadata": {
        "colab": {
          "base_uri": "https://localhost:8080/",
          "height": 217
        },
        "id": "bKNDnqK6SFH5",
        "outputId": "5bc57678-4806-41a2-8b59-a1ed3efcb30b"
      },
      "execution_count": 55,
      "outputs": [
        {
          "output_type": "error",
          "ename": "ValueError",
          "evalue": "ignored",
          "traceback": [
            "\u001b[0;31m---------------------------------------------------------------------------\u001b[0m",
            "\u001b[0;31mValueError\u001b[0m                                Traceback (most recent call last)",
            "\u001b[0;32m<ipython-input-55-933617a95283>\u001b[0m in \u001b[0;36m<cell line: 3>\u001b[0;34m()\u001b[0m\n\u001b[1;32m      1\u001b[0m \u001b[0;32mimport\u001b[0m \u001b[0mmath\u001b[0m\u001b[0;34m\u001b[0m\u001b[0;34m\u001b[0m\u001b[0m\n\u001b[1;32m      2\u001b[0m \u001b[0;34m\u001b[0m\u001b[0m\n\u001b[0;32m----> 3\u001b[0;31m \u001b[0mfind\u001b[0m \u001b[0;34m=\u001b[0m \u001b[0mmath\u001b[0m\u001b[0;34m.\u001b[0m\u001b[0msqrt\u001b[0m\u001b[0;34m(\u001b[0m\u001b[0;34m-\u001b[0m\u001b[0;36m1.0\u001b[0m\u001b[0;34m)\u001b[0m\u001b[0;34m\u001b[0m\u001b[0;34m\u001b[0m\u001b[0m\n\u001b[0m\u001b[1;32m      4\u001b[0m \u001b[0mprint\u001b[0m\u001b[0;34m(\u001b[0m\u001b[0mfind\u001b[0m\u001b[0;34m)\u001b[0m\u001b[0;34m\u001b[0m\u001b[0;34m\u001b[0m\u001b[0m\n",
            "\u001b[0;31mValueError\u001b[0m: math domain error"
          ]
        }
      ]
    },
    {
      "cell_type": "code",
      "source": [
        "print(x)\n"
      ],
      "metadata": {
        "colab": {
          "base_uri": "https://localhost:8080/",
          "height": 165
        },
        "id": "yTzXavFhSE71",
        "outputId": "de040842-2e6b-422f-d0e6-53f034aa0a1f"
      },
      "execution_count": 56,
      "outputs": [
        {
          "output_type": "error",
          "ename": "NameError",
          "evalue": "ignored",
          "traceback": [
            "\u001b[0;31m---------------------------------------------------------------------------\u001b[0m",
            "\u001b[0;31mNameError\u001b[0m                                 Traceback (most recent call last)",
            "\u001b[0;32m<ipython-input-56-fc17d851ef81>\u001b[0m in \u001b[0;36m<cell line: 1>\u001b[0;34m()\u001b[0m\n\u001b[0;32m----> 1\u001b[0;31m \u001b[0mprint\u001b[0m\u001b[0;34m(\u001b[0m\u001b[0mx\u001b[0m\u001b[0;34m)\u001b[0m\u001b[0;34m\u001b[0m\u001b[0;34m\u001b[0m\u001b[0m\n\u001b[0m",
            "\u001b[0;31mNameError\u001b[0m: name 'x' is not defined"
          ]
        }
      ]
    },
    {
      "cell_type": "code",
      "source": [
        "file = open('try.txt', 'r')\n",
        "file.read()"
      ],
      "metadata": {
        "colab": {
          "base_uri": "https://localhost:8080/",
          "height": 182
        },
        "id": "kwiQ0z-kSElH",
        "outputId": "ca817a71-6753-4949-adb0-92ccae1e941f"
      },
      "execution_count": 57,
      "outputs": [
        {
          "output_type": "error",
          "ename": "FileNotFoundError",
          "evalue": "ignored",
          "traceback": [
            "\u001b[0;31m---------------------------------------------------------------------------\u001b[0m",
            "\u001b[0;31mFileNotFoundError\u001b[0m                         Traceback (most recent call last)",
            "\u001b[0;32m<ipython-input-57-cde974117109>\u001b[0m in \u001b[0;36m<cell line: 1>\u001b[0;34m()\u001b[0m\n\u001b[0;32m----> 1\u001b[0;31m \u001b[0mfile\u001b[0m \u001b[0;34m=\u001b[0m \u001b[0mopen\u001b[0m\u001b[0;34m(\u001b[0m\u001b[0;34m'try.txt'\u001b[0m\u001b[0;34m,\u001b[0m \u001b[0;34m'r'\u001b[0m\u001b[0;34m)\u001b[0m\u001b[0;34m\u001b[0m\u001b[0;34m\u001b[0m\u001b[0m\n\u001b[0m\u001b[1;32m      2\u001b[0m \u001b[0mfile\u001b[0m\u001b[0;34m.\u001b[0m\u001b[0mread\u001b[0m\u001b[0;34m(\u001b[0m\u001b[0;34m)\u001b[0m\u001b[0;34m\u001b[0m\u001b[0;34m\u001b[0m\u001b[0m\n",
            "\u001b[0;31mFileNotFoundError\u001b[0m: [Errno 2] No such file or directory: 'try.txt'"
          ]
        }
      ]
    },
    {
      "cell_type": "markdown",
      "source": [
        "**Question 10**"
      ],
      "metadata": {
        "id": "AZTZw2aQQ5Vz"
      }
    },
    {
      "cell_type": "code",
      "source": [
        "def frequencies(text):\n",
        "    letters = 'abcdefghijklmnopqrstuvwxyz'\n",
        "    counts = [0] * 26  # Initialize a list of 26 zeros, one for each letter\n",
        "\n",
        "    for char in text:\n",
        "        if char.lower() in letters:\n",
        "            index = letters.index(char.lower())\n",
        "            counts[index] += 1\n",
        "\n",
        "    return counts\n",
        "\n",
        "text = \"I am Yash Jain , and this is my data programming assignment\"\n",
        "frequencies(text)"
      ],
      "metadata": {
        "colab": {
          "base_uri": "https://localhost:8080/"
        },
        "id": "VjvZUB41Q0oo",
        "outputId": "0cfa7a2e-861c-4ee5-f4f7-56c3bca003c0"
      },
      "execution_count": 51,
      "outputs": [
        {
          "output_type": "execute_result",
          "data": {
            "text/plain": [
              "[8, 0, 0, 2, 1, 0, 3, 2, 6, 1, 0, 0, 5, 5, 1, 1, 0, 2, 5, 3, 0, 0, 0, 0, 2, 0]"
            ]
          },
          "metadata": {},
          "execution_count": 51
        }
      ]
    },
    {
      "cell_type": "code",
      "source": [],
      "metadata": {
        "id": "3mG0Ky9DQzCg"
      },
      "execution_count": null,
      "outputs": []
    }
  ]
}